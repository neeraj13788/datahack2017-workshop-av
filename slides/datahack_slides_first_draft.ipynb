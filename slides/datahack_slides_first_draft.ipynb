{
 "cells": [
  {
   "cell_type": "markdown",
   "metadata": {
    "slideshow": {
     "slide_type": "skip"
    }
   },
   "source": [
    "### Cover Slide 1\n",
    "\n",
    "Using [this palette](http://www.color-hex.com/color-palette/48419) to add color apart from regular custom.css provided."
   ]
  },
  {
   "cell_type": "markdown",
   "metadata": {
    "slideshow": {
     "slide_type": "slide"
    }
   },
   "source": [
    "<div align=\"center\">\n",
    "<div>\n",
    "    <h1 style=\"font-weight:bold\">Machine Learning models in Production* using <br/>\n",
    "    <br/>\n",
    "    <font color=\"#a70000\">Flask</font> & <font color=\"#00534e\">Docker</font></h1></div>\n",
    "<p>&nbsp;</p>\n",
    "<p>&nbsp;</p>\n",
    "</div>"
   ]
  },
  {
   "cell_type": "markdown",
   "metadata": {
    "slideshow": {
     "slide_type": "slide"
    }
   },
   "source": [
    "<div align=\"center\">\n",
    "<div>\n",
    "<h2 style=\"color:#a70000;font-weight:bold;\">About me</h2>\n",
    "</div>\n",
    "<p>&nbsp;</p>\n",
    "<p style=\"font-weight:bold\"><b>Prathamesh Sarang</b></p>\n",
    "<p style=\"color:#00534e;font-weight:bold\"><b>Data Scientist @ Lemoxo Technologies</b></p>\n",
    "<p style=\"text-transform: lowercase; font-weight:bold\"><b>Tweet me</b> <font color=\"#0088b2\"><a href=\"https://twitter.com/prthmshs\" >@prthmshs</a></font></p>\n",
    "</div>"
   ]
  },
  {
   "cell_type": "markdown",
   "metadata": {
    "slideshow": {
     "slide_type": "slide"
    }
   },
   "source": [
    "<div align=\"center\">\n",
    "<div class=\"divider_h1\">\n",
    "<h2 style=\"color:#a70000; font-weight:bold\">Code and Slides for this talk</h2>\n",
    "</div>\n",
    "<p>&nbsp;</p>\n",
    "<h4 style=\"text-transform: lowercase;font-weight:bold;\">Code: <font color=\"#0088b2\">https://github.com/pratos/datahack2017-workshop-av</font></h4>\n",
    "<h4 style=\"text-transform: lowercase;font-weight:bold\">Slides: <font color=\"#00534e\">https://github.com/pratos/datahack2017-workshop-av/tree/master/slides</font></h4>\n",
    "</div>"
   ]
  },
  {
   "cell_type": "markdown",
   "metadata": {
    "raw_mimetype": "text/html",
    "slideshow": {
     "slide_type": "slide"
    }
   },
   "source": [
    "<div class=\"divider_h1\" align=\"center\">\n",
    "<h1 style=\"font-weight:bold;\"><font color=\"#5ea774\">* WITH A REASON!<font></h1>\n",
    "</div>"
   ]
  },
  {
   "cell_type": "markdown",
   "metadata": {
    "slideshow": {
     "slide_type": "slide"
    }
   },
   "source": [
    "<div align=\"center\">\n",
    "<h1 style=\"font-weight:bold;\">The night(<font color=\"red\">cloud</font>) is dark(<font color=\"red\">dependencies</font>) and full of terrors(<font color=\"red\">installations</font>)</h1>\n",
    "</div>"
   ]
  },
  {
   "cell_type": "markdown",
   "metadata": {
    "slideshow": {
     "slide_type": "slide"
    }
   },
   "source": [
    "<div align=\"center\">\n",
    "<h2 style=\"color:#a70000; font-weight:bold\">Structure of the Hack Session</h2>\n",
    "</div>"
   ]
  },
  {
   "cell_type": "markdown",
   "metadata": {
    "slideshow": {
     "slide_type": "fragment"
    }
   },
   "source": [
    "- __How <font color=\"#a70000;\">Flask</font> can be used to create web end-point quickly.__"
   ]
  },
  {
   "cell_type": "markdown",
   "metadata": {
    "slideshow": {
     "slide_type": "fragment"
    }
   },
   "source": [
    "- __How to wrap an <font color=\"#a70000;\">ML Model in an API</font>.__"
   ]
  },
  {
   "cell_type": "markdown",
   "metadata": {
    "slideshow": {
     "slide_type": "fragment"
    }
   },
   "source": [
    "- __What is <font color=\"#a70000;\">Docker</font> & how does it fit in here?__"
   ]
  },
  {
   "cell_type": "markdown",
   "metadata": {
    "slideshow": {
     "slide_type": "fragment"
    }
   },
   "source": [
    "- __Deploying the <font color=\"#a70000;\">ML API to a Cloud Platform</font>.__"
   ]
  },
  {
   "cell_type": "markdown",
   "metadata": {
    "slideshow": {
     "slide_type": "slide"
    }
   },
   "source": [
    "<div align=\"center\">\n",
    "<h2 style=\"color:#a70000; font-weight:bold\">Afterlife of a Machine Learning Model</h2>\n",
    "\n",
    "\n",
    "<img src=\"http://www.maicar.com/GML/000Iconography/Hermes/slides/smi160.jpg\" height=\"500px\" width=\"500px\"/>\n",
    "<div>"
   ]
  },
  {
   "cell_type": "markdown",
   "metadata": {
    "slideshow": {
     "slide_type": "slide"
    }
   },
   "source": [
    "<div align=\"center\">\n",
    "<h2 style=\"color:#a70000; font-weight:bold\">API First Approach</h2>\n",
    "</div>"
   ]
  },
  {
   "cell_type": "markdown",
   "metadata": {
    "slideshow": {
     "slide_type": "fragment"
    }
   },
   "source": [
    "- __Creating APIs that can be robustly integrated with other applications without compromising on the current technology stack or having a steep learning curve learning another language.__"
   ]
  },
  {
   "cell_type": "markdown",
   "metadata": {
    "slideshow": {
     "slide_type": "fragment"
    }
   },
   "source": [
    "- __Productivity doesn't take a hit with just a need for the initial investment in learning a web framework to start off creating APIs.__"
   ]
  },
  {
   "cell_type": "markdown",
   "metadata": {
    "slideshow": {
     "slide_type": "fragment"
    }
   },
   "source": [
    "- __In Python, there's lot of these frameworks that helps one to create APIs.__"
   ]
  },
  {
   "cell_type": "markdown",
   "metadata": {
    "slideshow": {
     "slide_type": "fragment"
    }
   },
   "source": [
    "- __Choice for this hack session: <font color=\"#a70000\">Flask</font>__"
   ]
  },
  {
   "cell_type": "markdown",
   "metadata": {
    "slideshow": {
     "slide_type": "slide"
    }
   },
   "source": [
    "<div align=\"center\">\n",
    "<h1 style=\"color:#a70000; font-weight:bold\">Problem Statement</h1>\n",
    "\n",
    "<h2>Writing an API to wrap Machine Learning Models and Deploy it.</h2>\n",
    "</div>"
   ]
  },
  {
   "cell_type": "markdown",
   "metadata": {
    "slideshow": {
     "slide_type": "slide"
    }
   },
   "source": [
    "<div align=\"center\">\n",
    "    <img src=\"https://raw.githubusercontent.com/pratos/datahack2017-workshop-av/master/slides/images/av-screenshot.png?token=AJ7KJLn5m9CqIYBt1Npy7cyPKoZdx27Nks5aBeYZwA%3D%3D\" />\n",
    "</div>"
   ]
  },
  {
   "cell_type": "markdown",
   "metadata": {
    "slideshow": {
     "slide_type": "slide"
    }
   },
   "source": [
    "<div align=\"center\">\n",
    "<h2 style=\"color:#a70000; font-weight:bold\">Machine Learning Workflow:</h2>\n",
    "</div>"
   ]
  },
  {
   "cell_type": "markdown",
   "metadata": {
    "slideshow": {
     "slide_type": "fragment"
    }
   },
   "source": [
    "- __Getting the dataset, performing exploratory data analysis.__"
   ]
  },
  {
   "cell_type": "markdown",
   "metadata": {
    "slideshow": {
     "slide_type": "fragment"
    }
   },
   "source": [
    "- __Set a pre-processing pipeline and creating ML Models.__"
   ]
  },
  {
   "cell_type": "markdown",
   "metadata": {
    "slideshow": {
     "slide_type": "fragment"
    }
   },
   "source": [
    "- __Decide on the metrics & iteratively modify our ML Model.__"
   ]
  },
  {
   "cell_type": "markdown",
   "metadata": {
    "slideshow": {
     "slide_type": "fragment"
    }
   },
   "source": [
    "- __Once that is done, we can run predictions on it.__"
   ]
  },
  {
   "cell_type": "markdown",
   "metadata": {
    "slideshow": {
     "slide_type": "slide"
    }
   },
   "source": [
    "<div align=\"center\">\n",
    "<h2 style=\"color:#a70000; font-weight:bold\">How do we save these ML Model now?</h2>\n",
    "<h3 style=\"color:#a70000; font-weight:bold\">Python has a solution to it: Serialization!</h3>\n",
    "</div>"
   ]
  },
  {
   "cell_type": "markdown",
   "metadata": {
    "slideshow": {
     "slide_type": "notes"
    }
   },
   "source": [
    "> In computer science, in the context of data storage, serialization is the process of translating data structures or object state into a format that can be stored (for example, in a file or memory buffer, or transmitted across a network connection link) and reconstructed later in the same or another computer environment.\n",
    "\n",
    "In Python, pickling is a standard way to store objects and retrieve them as their original state. We'll take the help of an example to understand pickling! "
   ]
  },
  {
   "cell_type": "markdown",
   "metadata": {
    "slideshow": {
     "slide_type": "slide"
    }
   },
   "source": [
    "<div align=\"center\">\n",
    "<h2 style=\"color:#a70000; font-weight:bold\">What are APIs</h2>\n",
    "\n",
    "<img src=\"https://upload.wikimedia.org/wikipedia/commons/1/10/Web_Programming_API.svg\" />\n",
    "</div>"
   ]
  },
  {
   "cell_type": "markdown",
   "metadata": {
    "slideshow": {
     "slide_type": "subslide"
    }
   },
   "source": [
    "$$Server-Side\\;Code\\;is\\;ML\\;API$$\n",
    "\n",
    "$$Client-Side\\;Code\\;is\\;Web\\;application/software\\;system$$"
   ]
  },
  {
   "cell_type": "markdown",
   "metadata": {
    "slideshow": {
     "slide_type": "slide"
    }
   },
   "source": [
    "<div class=\"divider_h1\" align=\"center\">\n",
    "<h1 style=\"font-weight:bold;\"><font color=\"#5ea774\">DEMO: HELLO-WORLD<font></h1>\n",
    "</div>"
   ]
  },
  {
   "cell_type": "markdown",
   "metadata": {
    "slideshow": {
     "slide_type": "slide"
    }
   },
   "source": [
    "<div align=\"center\">\n",
    "<h2 style=\"color:#a70000; font-weight:bold\">Starting off!</h2>\n",
    "</div>"
   ]
  },
  {
   "cell_type": "markdown",
   "metadata": {
    "slideshow": {
     "slide_type": "fragment"
    }
   },
   "source": [
    "- __Installing Flask__"
   ]
  },
  {
   "cell_type": "code",
   "execution_count": 3,
   "metadata": {
    "collapsed": false,
    "slideshow": {
     "slide_type": "fragment"
    }
   },
   "outputs": [
    {
     "name": "stdout",
     "output_type": "stream",
     "text": [
      "Requirement already satisfied: flask in /Users/pratos/miniconda3/envs/datahack/lib/python3.6/site-packages\r\n",
      "Requirement already satisfied: Jinja2>=2.4 in /Users/pratos/miniconda3/envs/datahack/lib/python3.6/site-packages (from flask)\r\n",
      "Requirement already satisfied: Werkzeug>=0.7 in /Users/pratos/miniconda3/envs/datahack/lib/python3.6/site-packages (from flask)\r\n",
      "Requirement already satisfied: click>=2.0 in /Users/pratos/miniconda3/envs/datahack/lib/python3.6/site-packages (from flask)\r\n",
      "Requirement already satisfied: itsdangerous>=0.21 in /Users/pratos/miniconda3/envs/datahack/lib/python3.6/site-packages (from flask)\r\n",
      "Requirement already satisfied: MarkupSafe>=0.23 in /Users/pratos/miniconda3/envs/datahack/lib/python3.6/site-packages (from Jinja2>=2.4->flask)\r\n"
     ]
    }
   ],
   "source": [
    "!pip install flask"
   ]
  },
  {
   "cell_type": "markdown",
   "metadata": {
    "slideshow": {
     "slide_type": "slide"
    }
   },
   "source": [
    "<div align=\"center\">\n",
    "<h2 style=\"color:#a70000; font-weight:bold\">First Flask Application</h2>\n",
    "\n",
    "<img src=\"https://raw.githubusercontent.com/pratos/datahack2017-workshop-av/master/slides/images/flask_helloworld.png?token=AJ7KJHNgKv7WeT5pCncmydVI5dnMxhxWks5aBe5NwA%3D%3D\" />\n",
    "</div>"
   ]
  },
  {
   "cell_type": "markdown",
   "metadata": {
    "slideshow": {
     "slide_type": "slide"
    }
   },
   "source": [
    "<div align=\"center\">\n",
    "<h2 style=\"color:#a70000; font-weight:bold;\">PROS</h2>\n",
    "</div>"
   ]
  },
  {
   "cell_type": "markdown",
   "metadata": {
    "slideshow": {
     "slide_type": "fragment"
    }
   },
   "source": [
    "- __Pretty lightweight & easy to start with, has a small overall footprint.__"
   ]
  },
  {
   "cell_type": "markdown",
   "metadata": {
    "slideshow": {
     "slide_type": "fragment"
    }
   },
   "source": [
    "- __The idea of Flask is to build a good foundation for all applications. Everything else is up to you or extensions.__"
   ]
  },
  {
   "cell_type": "markdown",
   "metadata": {
    "slideshow": {
     "slide_type": "fragment"
    }
   },
   "source": [
    "- __Great documentation.__"
   ]
  },
  {
   "cell_type": "markdown",
   "metadata": {
    "slideshow": {
     "slide_type": "fragment"
    }
   },
   "source": [
    "- __Iteration Speed__"
   ]
  },
  {
   "cell_type": "markdown",
   "metadata": {
    "slideshow": {
     "slide_type": "slide"
    }
   },
   "source": [
    "<div align=\"center\">\n",
    "<h2 style=\"color:#a70000; font-weight:bold;\">CONS</h2>\n",
    "</div>"
   ]
  },
  {
   "cell_type": "markdown",
   "metadata": {
    "slideshow": {
     "slide_type": "fragment"
    }
   },
   "source": [
    "- __Better, faster frameworks just to create web services like Falcon beat Flask hands down.__"
   ]
  },
  {
   "cell_type": "markdown",
   "metadata": {
    "slideshow": {
     "slide_type": "fragment"
    }
   },
   "source": [
    "- __Doesn't provide High performance Async IO out of the box.__"
   ]
  },
  {
   "cell_type": "markdown",
   "metadata": {
    "slideshow": {
     "slide_type": "slide"
    }
   },
   "source": [
    "<div align=\"center\">\n",
    "<h2 style=\"color:#a70000; font-weight:bold\">Structure of the Hack Session</h2>\n",
    "</div>"
   ]
  },
  {
   "cell_type": "markdown",
   "metadata": {
    "slideshow": {
     "slide_type": "fragment"
    }
   },
   "source": [
    "- __How <font color=\"#a70000;\">Flask</font> can be used to create web end-point quickly.__"
   ]
  },
  {
   "cell_type": "markdown",
   "metadata": {
    "slideshow": {
     "slide_type": "fragment"
    }
   },
   "source": [
    "- <h4 style=\"color:#b2bdbb;\">How to wrap an ML Model in an API.</h4>"
   ]
  },
  {
   "cell_type": "markdown",
   "metadata": {
    "slideshow": {
     "slide_type": "fragment"
    }
   },
   "source": [
    "- <h4 style=\"color:#b2bdbb;\">What is Docker & how does it fit in here?</h4>"
   ]
  },
  {
   "cell_type": "markdown",
   "metadata": {
    "slideshow": {
     "slide_type": "fragment"
    }
   },
   "source": [
    "- <h4 style=\"color:#b2bdbb;\">Deploying the ML API to a Cloud Platform.</h4>"
   ]
  },
  {
   "cell_type": "markdown",
   "metadata": {
    "slideshow": {
     "slide_type": "slide"
    }
   },
   "source": [
    "<div class=\"divider_h1\" align=\"center\">\n",
    "    <h1 style=\"font-weight:bold;\"><font color=\"#5ea774\">DEMO:WRAPPING ML MODELS<font></h1>\n",
    "</div>"
   ]
  },
  {
   "cell_type": "markdown",
   "metadata": {
    "slideshow": {
     "slide_type": "slide"
    }
   },
   "source": [
    "<div align=\"center\">\n",
    "<h2 style=\"color:#a70000; font-weight:bold;\">Quick Recap</h2>\n",
    "\n",
    "<img src=\"https://upload.wikimedia.org/wikipedia/commons/1/10/Web_Programming_API.svg\" />\n",
    "</div>"
   ]
  },
  {
   "cell_type": "markdown",
   "metadata": {
    "slideshow": {
     "slide_type": "slide"
    }
   },
   "source": [
    "<div align=\"center\">\n",
    "<h2 style=\"color:#a70000; font-weight:bold;\">API VERBS</h2>\n",
    "</div>"
   ]
  },
  {
   "cell_type": "markdown",
   "metadata": {
    "slideshow": {
     "slide_type": "fragment"
    }
   },
   "source": [
    "- __GET__: The HTTP GET method is used to **read** (or retrieve) a representation of a resource."
   ]
  },
  {
   "cell_type": "markdown",
   "metadata": {
    "slideshow": {
     "slide_type": "fragment"
    }
   },
   "source": [
    "- __POST__: The POST verb is most-often utilized to **create** new resources. In particular, it's used to create subordinate resources. "
   ]
  },
  {
   "cell_type": "markdown",
   "metadata": {
    "slideshow": {
     "slide_type": "fragment"
    }
   },
   "source": [
    "- __PUT__: PUT is most-often utilized for **update** capabilities, PUT-ing to a known resource URI with the request body containing the newly-updated representation of the original resource."
   ]
  },
  {
   "cell_type": "markdown",
   "metadata": {
    "slideshow": {
     "slide_type": "fragment"
    }
   },
   "source": [
    "- __DELETE__: DELETE is pretty easy to understand. It is used to **delete** a resource identified by a URI."
   ]
  },
  {
   "cell_type": "markdown",
   "metadata": {
    "slideshow": {
     "slide_type": "slide"
    }
   },
   "source": [
    "<div align=\"center\">\n",
    "<h2 style=\"color:#a70000; font-weight:bold;\">Client Side Code</h2>\n",
    "\n",
    "<img src=\"https://raw.githubusercontent.com/pratos/datahack2017-workshop-av/master/slides/images/client_code.png?token=AJ7KJLY6mhlcTp__JuNREzl1xFaIlGjOks5aBhYUwA%3D%3D\" />\n",
    "</div>"
   ]
  },
  {
   "cell_type": "markdown",
   "metadata": {
    "slideshow": {
     "slide_type": "slide"
    }
   },
   "source": [
    "<div align=\"center\">\n",
    "<h2 style=\"color:#a70000; font-weight:bold;\">Server Side Code</h2>\n",
    "\n",
    "<h4>There are three important parts in constructing our wrapper function, <font color=\"black\">apicall()</font></h4>\n",
    "</div>"
   ]
  },
  {
   "cell_type": "markdown",
   "metadata": {
    "slideshow": {
     "slide_type": "subslide"
    }
   },
   "source": [
    "- __Getting the request data (for which predictions are to be made).__\n",
    "\n",
    "![](https://raw.githubusercontent.com/pratos/datahack2017-workshop-av/master/slides/images/ml_api1.png?token=AJ7KJEXlH_JX0w7D6OWzaSiJ5r6T_ahwks5aBfaOwA%3D%3D)"
   ]
  },
  {
   "cell_type": "markdown",
   "metadata": {
    "slideshow": {
     "slide_type": "subslide"
    }
   },
   "source": [
    "- __Loading our pickled estimator and do predictions:__\n",
    "    \n",
    "![](https://raw.githubusercontent.com/pratos/datahack2017-workshop-av/master/slides/images/ml_api2.png?token=AJ7KJM8JxnAs5KO3Dx8Mm-KV8nRsVMnqks5aBfbhwA%3D%3D)"
   ]
  },
  {
   "cell_type": "markdown",
   "metadata": {
    "slideshow": {
     "slide_type": "subslide"
    }
   },
   "source": [
    "- __<font color=\"#810000\" style=\"font-weight:bold;\">jsonify</font> our predictions and send the response back with status code: <font color=\"#810000\" >200</font>__\n",
    "\n",
    "![](https://raw.githubusercontent.com/pratos/datahack2017-workshop-av/master/slides/images/ml_api3.png?token=AJ7KJKflZl2V14Kuk1pGsb1265Ay2gxoks5aBfcFwA%3D%3D)"
   ]
  },
  {
   "cell_type": "markdown",
   "metadata": {
    "slideshow": {
     "slide_type": "subslide"
    }
   },
   "source": [
    "- __Small Addition: Error Handling__\n",
    "    \n",
    "![](https://raw.githubusercontent.com/pratos/datahack2017-workshop-av/master/slides/images/ml_api_error_4.png?token=AJ7KJDaIyq4u1Gq1OyKUQMFokPDDomjjks5aBfdFwA%3D%3D)"
   ]
  },
  {
   "cell_type": "markdown",
   "metadata": {
    "slideshow": {
     "slide_type": "slide"
    }
   },
   "source": [
    "<div align=\"center\">\n",
    "<h2 style=\"color:#a70000; font-weight:bold\">Structure of the Hack Session</h2>\n",
    "</div>"
   ]
  },
  {
   "cell_type": "markdown",
   "metadata": {
    "slideshow": {
     "slide_type": "fragment"
    }
   },
   "source": [
    "- __How <font color=\"#a70000;\">Flask</font> can be used to create web end-point quickly.__"
   ]
  },
  {
   "cell_type": "markdown",
   "metadata": {
    "slideshow": {
     "slide_type": "fragment"
    }
   },
   "source": [
    "- __How to wrap an <font color=\"#a70000;\">ML Model in an API</font>.__"
   ]
  },
  {
   "cell_type": "markdown",
   "metadata": {
    "slideshow": {
     "slide_type": "fragment"
    }
   },
   "source": [
    "- <h4 style=\"color:#b2bdbb;\">What is Docker & how does it fit in here?</h4>"
   ]
  },
  {
   "cell_type": "markdown",
   "metadata": {
    "slideshow": {
     "slide_type": "fragment"
    }
   },
   "source": [
    "- <h4 style=\"color:#b2bdbb;\">Deploying the ML API to a Cloud Platform.</h4>"
   ]
  },
  {
   "cell_type": "markdown",
   "metadata": {
    "slideshow": {
     "slide_type": "slide"
    }
   },
   "source": [
    "<div class=\"divider_h1\" align=\"center\">\n",
    "    <h1 style=\"font-weight:bold;\"><font color=\"#5ea774\">DOCKER, HOW?<font></h1>\n",
    "</div>"
   ]
  },
  {
   "cell_type": "markdown",
   "metadata": {
    "slideshow": {
     "slide_type": "slide"
    }
   },
   "source": [
    "<div align=\"center\">\n",
    "<img src=\"https://img.buzzfeed.com/buzzfeed-static/static/2014-01/enhanced/webdr02/22/13/anigif_enhanced-buzz-11171-1390414625-5.gif\" />\n",
    "</div>"
   ]
  },
  {
   "cell_type": "markdown",
   "metadata": {
    "slideshow": {
     "slide_type": "slide"
    }
   },
   "source": [
    "<div align=\"center\">\n",
    "    <h3 style=\"color:#a70000; font-weight:bold;\">Docker Basics</h3>\n",
    "    <p><b>Docker’s motto is: Build, Ship & Run everywhere.</b></p>\n",
    "    <img src=\"https://d3nmt5vlzunoa1.cloudfront.net/phpstorm/files/2015/10/large_v-trans.png\" width=\"400px;\" height=\"500px;\"/>\n",
    "</div>"
   ]
  },
  {
   "cell_type": "markdown",
   "metadata": {
    "slideshow": {
     "slide_type": "slide"
    }
   },
   "source": [
    "<div align=\"center\">\n",
    "    <h2 style=\"color:#a70000; font-weight:bold\">Docker Terminology</h2>\n",
    "    <p><b style=\"color:#00534e;\">Docker Containers:</b> Small user-level virtualization (isolation) that helps you install, build and run your code/workflow. All the code would be continuously running in these containers.</p>\n",
    "    \n",
    "</div>"
   ]
  },
  {
   "cell_type": "markdown",
   "metadata": {
    "slideshow": {
     "slide_type": "subslide"
    }
   },
   "source": [
    "<div align=\"center\">\n",
    "<p><b style=\"color:#00534e;\">Dockerfile:</b> It is a file from which Docker creates an image. It can be thought of as an automated script that has all the steps you want to execute.</p>\n",
    "</div>"
   ]
  },
  {
   "cell_type": "markdown",
   "metadata": {
    "slideshow": {
     "slide_type": "subslide"
    }
   },
   "source": [
    "<div align=\"center\">\n",
    "<p><b style=\"color:#00534e;\">Docker Images:</b> An image is an inert, immutable, file that’s essentially a snapshot of a container.</p>\n",
    "</div>"
   ]
  },
  {
   "cell_type": "markdown",
   "metadata": {
    "slideshow": {
     "slide_type": "slide"
    }
   },
   "source": [
    "<div align=\"center\">\n",
    "    <h2 style=\"color:#810000; font-weight:bold;\">Docker Architecture</h2>\n",
    "    <img src=\"https://docs.docker.com/engine/article-img/architecture.svg\" height=\"600px;\" width=\"850px;\"/>\n",
    "</div>"
   ]
  },
  {
   "cell_type": "markdown",
   "metadata": {
    "slideshow": {
     "slide_type": "slide"
    }
   },
   "source": [
    "<div class=\"divider_h1\" align=\"center\">\n",
    "<h1 style=\"font-weight:bold;\"><font color=\"#5ea774\">DEMO: DOCKER HELLO-WORLD<font></h1>\n",
    "</div>"
   ]
  },
  {
   "cell_type": "markdown",
   "metadata": {
    "slideshow": {
     "slide_type": "slide"
    }
   },
   "source": [
    "<div align=\"center\">\n",
    "<h2 style=\"color:#a70000; font-weight:bold\">Structure of the Hack Session</h2>\n",
    "</div>"
   ]
  },
  {
   "cell_type": "markdown",
   "metadata": {
    "slideshow": {
     "slide_type": "fragment"
    }
   },
   "source": [
    "- __How <font color=\"#a70000;\">Flask</font> can be used to create web end-point quickly.__"
   ]
  },
  {
   "cell_type": "markdown",
   "metadata": {
    "slideshow": {
     "slide_type": "fragment"
    }
   },
   "source": [
    "- __How to wrap an <font color=\"#a70000;\">ML Model in an API</font>.__"
   ]
  },
  {
   "cell_type": "markdown",
   "metadata": {
    "slideshow": {
     "slide_type": "fragment"
    }
   },
   "source": [
    "- __What is <font color=\"#a70000;\">Docker</font> & how does it fit in here?__"
   ]
  },
  {
   "cell_type": "markdown",
   "metadata": {
    "slideshow": {
     "slide_type": "fragment"
    }
   },
   "source": [
    "- <h4 style=\"color:#b2bdbb;\">Deploying the ML API to a Cloud Platform.</h4>"
   ]
  },
  {
   "cell_type": "markdown",
   "metadata": {
    "slideshow": {
     "slide_type": "slide"
    }
   },
   "source": [
    "<div class=\"divider_h1\" align=\"center\">\n",
    "<h1 style=\"font-weight:bold;\"><font color=\"#5ea774\">DEPLOYING AS WEB ENDPOINT<font></h1>\n",
    "</div>"
   ]
  },
  {
   "cell_type": "markdown",
   "metadata": {
    "slideshow": {
     "slide_type": "slide"
    }
   },
   "source": [
    "<div align=\"center\">\n",
    "<h2 style=\"color:#810000; font-weight:bold;\">Introduction to docker-machine</h2>\n",
    "</div>"
   ]
  },
  {
   "cell_type": "markdown",
   "metadata": {
    "slideshow": {
     "slide_type": "fragment"
    }
   },
   "source": [
    "<p>Docker provides us the easiest way to run our containers on public cloud platforms - AWS, Azure, Google Cloud Platform, etc.</p>"
   ]
  },
  {
   "cell_type": "markdown",
   "metadata": {
    "slideshow": {
     "slide_type": "subslide"
    }
   },
   "source": [
    "__You can do this via <font color=\"#00534e\">docker-machine</font>. What <font color=\"#00534e\">docker-machine</font> is:__"
   ]
  },
  {
   "cell_type": "markdown",
   "metadata": {
    "slideshow": {
     "slide_type": "fragment"
    }
   },
   "source": [
    "- Docker Machine is a tool that lets you install Docker Engine on virtual hosts, and manage the hosts with `docker-machine` commands. You can use Machine to create Docker hosts on your local Mac or Windows box, on your company network, in your data center, or on cloud providers like Azure, AWS, or Digital Ocean. "
   ]
  },
  {
   "cell_type": "markdown",
   "metadata": {
    "slideshow": {
     "slide_type": "fragment"
    }
   },
   "source": [
    "- Using <font color=\"#00534e\">docker-machine</font> commands, you can start, inspect, stop, and restart a managed host, upgrade the Docker client and daemon, and configure a Docker client to talk to your host."
   ]
  },
  {
   "cell_type": "markdown",
   "metadata": {
    "slideshow": {
     "slide_type": "slide"
    }
   },
   "source": [
    "<div align=\"center\">\n",
    "    <h2 style=\"color:#810000; font-weight:bold;\">How <font color=\"black\">docker-machine</font> works</h2>\n",
    "    <br/>\n",
    "    <img src=\"https://docs.docker.com/machine/img/machine.png\" />\n",
    "</div>"
   ]
  },
  {
   "cell_type": "markdown",
   "metadata": {
    "slideshow": {
     "slide_type": "slide"
    }
   },
   "source": [
    "<div class=\"divider_h1\" align=\"center\">\n",
    "<h1 style=\"font-weight:bold;\"><font color=\"#5ea774\">DOCKER + FLASK<font></h1>\n",
    "</div>"
   ]
  },
  {
   "cell_type": "markdown",
   "metadata": {
    "slideshow": {
     "slide_type": "slide"
    }
   },
   "source": [
    "<div align=\"center\">\n",
    "<h2 style=\"color:#a70000; font-weight:bold;\">Dockerizing our ML API</h2>\n",
    "<h3 style=\"color:#a70000; font-weight:bold;\">Baking a Cake!</h3>\n",
    "</div>"
   ]
  },
  {
   "cell_type": "code",
   "execution_count": 6,
   "metadata": {
    "collapsed": false,
    "slideshow": {
     "slide_type": "fragment"
    }
   },
   "outputs": [
    {
     "name": "stdout",
     "output_type": "stream",
     "text": [
      "../working_api/working_api/\r\n",
      "├── __init__.py\r\n",
      "├── __pycache__\r\n",
      "│   └── utils.cpython-36.pyc\r\n",
      "├── flask_api.yml\r\n",
      "├── models\r\n",
      "│   └── model_v1.pk\r\n",
      "├── requirements.txt\r\n",
      "├── server.py\r\n",
      "└── utils.py\r\n",
      "\r\n",
      "2 directories, 7 files\r\n"
     ]
    }
   ],
   "source": [
    "!tree ../working_api/working_api/"
   ]
  },
  {
   "cell_type": "markdown",
   "metadata": {
    "slideshow": {
     "slide_type": "slide"
    }
   },
   "source": [
    "- Add _Dockerfile_, at the root of the ML API folder:"
   ]
  },
  {
   "cell_type": "code",
   "execution_count": 7,
   "metadata": {
    "collapsed": true,
    "slideshow": {
     "slide_type": "fragment"
    }
   },
   "outputs": [],
   "source": [
    "!touch ../working_api/working_api/Dockerfile"
   ]
  },
  {
   "cell_type": "code",
   "execution_count": 9,
   "metadata": {
    "collapsed": false,
    "slideshow": {
     "slide_type": "fragment"
    }
   },
   "outputs": [
    {
     "name": "stdout",
     "output_type": "stream",
     "text": [
      "../working_api/working_api/\r\n",
      "├── Dockerfile\r\n",
      "├── __init__.py\r\n",
      "├── __pycache__\r\n",
      "│   └── utils.cpython-36.pyc\r\n",
      "├── flask_api.yml\r\n",
      "├── models\r\n",
      "│   └── model_v1.pk\r\n",
      "├── requirements.txt\r\n",
      "├── server.py\r\n",
      "└── utils.py\r\n",
      "\r\n",
      "2 directories, 8 files\r\n"
     ]
    }
   ],
   "source": [
    "!tree ../working_api/working_api/"
   ]
  },
  {
   "cell_type": "markdown",
   "metadata": {
    "slideshow": {
     "slide_type": "slide"
    }
   },
   "source": [
    "<div align=\"center\">\n",
    "<h2 style=\"color:#a70000; font-weight:bold;\">Writing our Recipe!</h2>\n",
    "</div>"
   ]
  },
  {
   "cell_type": "markdown",
   "metadata": {
    "slideshow": {
     "slide_type": "fragment"
    }
   },
   "source": [
    "- ___Dockerfile_ can be thought of a the recipe of a multi-layered cake to prepare Docker images.__"
   ]
  },
  {
   "cell_type": "markdown",
   "metadata": {
    "slideshow": {
     "slide_type": "fragment"
    }
   },
   "source": [
    "- __What would be the composition of this _Dockerfile_?__"
   ]
  },
  {
   "cell_type": "markdown",
   "metadata": {
    "slideshow": {
     "slide_type": "subslide"
    }
   },
   "source": [
    "![](https://raw.githubusercontent.com/pratos/datahack2017-workshop-av/master/slides/images/dockerfile_img.png?token=AJ7KJDi5ixUrviNH01Fvf0EFIXvK4BJJks5aBfrjwA%3D%3D)"
   ]
  },
  {
   "cell_type": "markdown",
   "metadata": {
    "slideshow": {
     "slide_type": "slide"
    }
   },
   "source": [
    "<div align=\"center\">\n",
    "<h2 style=\"color:#a70000; font-weight:bold;\">Deploying the API</h2>\n",
    "<h3 style=\"color:#a70000; font-weight:bold;\">Getting it to the oven!</h3>\n",
    "</div>"
   ]
  },
  {
   "cell_type": "markdown",
   "metadata": {
    "slideshow": {
     "slide_type": "slide"
    }
   },
   "source": [
    "<div align=\"center\">\n",
    "<h2 style=\"color:#a70000; font-weight:bold;\">We done!</h2>\n",
    "\n",
    "\n",
    "<iframe src=\"https://giphy.com/embed/Mp4hQy51LjY6A\" width=\"600\" height=\"400\" frameBorder=\"0\" class=\"giphy-embed\" allowFullScreen></iframe><p><a href=\"https://giphy.com/gifs/smile-done-Mp4hQy51LjY6A\">via GIPHY</a></p>\n",
    "<div>"
   ]
  },
  {
   "cell_type": "markdown",
   "metadata": {
    "slideshow": {
     "slide_type": "slide"
    }
   },
   "source": [
    "<div align=\"center\">\n",
    "<h2 style=\"color:#a70000; font-weight:bold\">Structure of the Hack Session</h2>\n",
    "</div>"
   ]
  },
  {
   "cell_type": "markdown",
   "metadata": {
    "slideshow": {
     "slide_type": "fragment"
    }
   },
   "source": [
    "- __How <font color=\"#a70000;\">Flask</font> can be used to create web end-point quickly.__"
   ]
  },
  {
   "cell_type": "markdown",
   "metadata": {
    "slideshow": {
     "slide_type": "fragment"
    }
   },
   "source": [
    "- __How to wrap an <font color=\"#a70000;\">ML Model in an API</font>.__"
   ]
  },
  {
   "cell_type": "markdown",
   "metadata": {
    "slideshow": {
     "slide_type": "fragment"
    }
   },
   "source": [
    "- __What is <font color=\"#a70000;\">Docker</font> & how does it fit in here?__"
   ]
  },
  {
   "cell_type": "markdown",
   "metadata": {
    "slideshow": {
     "slide_type": "fragment"
    }
   },
   "source": [
    "- __Deploying the <font color=\"#a70000;\">ML API to a Cloud Platform</font>.__"
   ]
  },
  {
   "cell_type": "markdown",
   "metadata": {
    "slideshow": {
     "slide_type": "slide"
    }
   },
   "source": [
    "<div align=\"center\">\n",
    "<h2 style=\"color:#a70000; font-weight:bold\">What can be improved?</h2>\n",
    "</div>"
   ]
  },
  {
   "cell_type": "markdown",
   "metadata": {
    "slideshow": {
     "slide_type": "fragment"
    }
   },
   "source": [
    "- __Logging & Error Handling.__"
   ]
  },
  {
   "cell_type": "markdown",
   "metadata": {
    "slideshow": {
     "slide_type": "fragment"
    }
   },
   "source": [
    "- __Basic Authentication.__"
   ]
  },
  {
   "cell_type": "markdown",
   "metadata": {
    "slideshow": {
     "slide_type": "fragment"
    }
   },
   "source": [
    "- __Adding async using Celery+Redis/RabbitMQ.__"
   ]
  },
  {
   "cell_type": "markdown",
   "metadata": {
    "slideshow": {
     "slide_type": "fragment"
    }
   },
   "source": [
    "- __Usage of reverse proxy & proxy servers(nginx, uwsgi/gunicorn), docker-compose(multi-container setup).__"
   ]
  },
  {
   "cell_type": "markdown",
   "metadata": {
    "slideshow": {
     "slide_type": "fragment"
    }
   },
   "source": [
    "- __Kubernetes/Docker Swarm.__"
   ]
  },
  {
   "cell_type": "markdown",
   "metadata": {
    "slideshow": {
     "slide_type": "skip"
    }
   },
   "source": [
    "### Q&A Slide"
   ]
  },
  {
   "cell_type": "markdown",
   "metadata": {
    "slideshow": {
     "slide_type": "slide"
    }
   },
   "source": [
    "<div class=\"divider_h1\" align=\"center\">\n",
    "<h1 style=\"font-weight:bold;\"><font color=\"#5ea774\">QUESTIONS?<font></h1>\n",
    "</div>"
   ]
  },
  {
   "cell_type": "markdown",
   "metadata": {
    "slideshow": {
     "slide_type": "skip"
    }
   },
   "source": [
    "### Final Slide while questions:"
   ]
  },
  {
   "cell_type": "markdown",
   "metadata": {
    "slideshow": {
     "slide_type": "slide"
    }
   },
   "source": [
    "<div align=\"center\">\n",
    "<div class=\"divider_h1\">\n",
    "<h2 style=\"color:#a70000; font-weight:bold;\">Code and Slides for this talk</h2>\n",
    "</div>\n",
    "<p>&nbsp;</p>\n",
    "<h4 style=\"text-transform: lowercase; font-weight:bold;\">Code: <font color=\"#0088b2\">https://github.com/pratos/datahack2017-workshop-av</font></h4>\n",
    "<h4 style=\"text-transform: lowercase; font-weight:bold;\">Slides: <font color=\"#00534e\">https://github.com/pratos/datahack2017-workshop-av/tree/master/slides</font></h4>\n",
    "\n",
    "<p>&nbsp;</p>\n",
    "<div class=\"divider_h1\">\n",
    "<h2 style=\"color:#a70000; font-weight:bold;\">Contact me via</h2>\n",
    "</div>\n",
    "<h4 style=\"text-transform: lowercase; font-weight:bold;\">Mail: <font color=\"#0088b2\">mail@pratos.in</font></h4>\n",
    "<h4 style=\"text-transform: lowercase; font-weight:bold\">Tweet: <font color=\"#0088b2\"><a href=\"https://twitter.com/prthmshs\" >@prthmshs</a></font></h4>\n",
    "<p>Raise an issue in the github repo.</p>\n",
    "</div>"
   ]
  }
 ],
 "metadata": {
  "celltoolbar": "Slideshow",
  "kernelspec": {
   "display_name": "Python 2",
   "language": "python",
   "name": "python2"
  },
  "language_info": {
   "codemirror_mode": {
    "name": "ipython",
    "version": 2
   },
   "file_extension": ".py",
   "mimetype": "text/x-python",
   "name": "python",
   "nbconvert_exporter": "python",
   "pygments_lexer": "ipython2",
   "version": "2.7.13"
  }
 },
 "nbformat": 4,
 "nbformat_minor": 1
}
